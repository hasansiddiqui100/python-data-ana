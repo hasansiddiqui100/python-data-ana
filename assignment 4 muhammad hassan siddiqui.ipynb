{
 "cells": [
  {
   "cell_type": "markdown",
   "id": "de01d189",
   "metadata": {},
   "source": [
    "# ex 4-1"
   ]
  },
  {
   "cell_type": "code",
   "execution_count": 20,
   "id": "99cb6729",
   "metadata": {},
   "outputs": [
    {
     "name": "stdout",
     "output_type": "stream",
     "text": [
      "zubair You're invited to a dinner party at our place\n",
      "shazia You're invited to a dinner party at our place\n",
      "shabana You're invited to a dinner party at our place\n"
     ]
    }
   ],
   "source": [
    "guest=[\"zubair\",\"shazia\",\"shabana\"]\n",
    "for x in guest:\n",
    "    print(x,\"You're invited to a dinner party at our place\")"
   ]
  },
  {
   "cell_type": "markdown",
   "id": "866fb41c",
   "metadata": {},
   "source": [
    "# ex 4-2"
   ]
  },
  {
   "cell_type": "code",
   "execution_count": 21,
   "id": "a58d8381",
   "metadata": {},
   "outputs": [
    {
     "name": "stdout",
     "output_type": "stream",
     "text": [
      "shazia is the person who cant make it \n"
     ]
    }
   ],
   "source": [
    "print(\"{} is the person who cant make it \".format(guest[1]))"
   ]
  },
  {
   "cell_type": "code",
   "execution_count": 22,
   "id": "b3d3fdc0",
   "metadata": {},
   "outputs": [
    {
     "name": "stdout",
     "output_type": "stream",
     "text": [
      "['zubair', 'farzana', 'shabana']\n",
      "shazia is replaced with another guest \n"
     ]
    }
   ],
   "source": [
    "guest[1]=\"farzana\"\n",
    "print(guest)\n",
    "print(\"shazia is replaced with another guest \")"
   ]
  },
  {
   "cell_type": "code",
   "execution_count": 23,
   "id": "aedada8e",
   "metadata": {},
   "outputs": [
    {
     "name": "stdout",
     "output_type": "stream",
     "text": [
      "zubair You're invited to a dinner party at our place\n",
      "farzana You're invited to a dinner party at our place\n",
      "shabana You're invited to a dinner party at our place\n"
     ]
    }
   ],
   "source": [
    "for x in guest:\n",
    "    print(x,\"You're invited to a dinner party at our place\")"
   ]
  },
  {
   "cell_type": "markdown",
   "id": "6ef2ffda",
   "metadata": {},
   "source": [
    "# ex 4-3"
   ]
  },
  {
   "cell_type": "code",
   "execution_count": 24,
   "id": "31386cf0",
   "metadata": {},
   "outputs": [
    {
     "name": "stdout",
     "output_type": "stream",
     "text": [
      "found a bigger table for your dinner inviting more guest\n"
     ]
    }
   ],
   "source": [
    "print(\"found a bigger table for your dinner inviting more guest\")\n",
    "guest.insert(0,\"mukarram\")\n",
    "guest.insert(1,\"rizwana\")\n",
    "guest.append(\"tabbasum\")"
   ]
  },
  {
   "cell_type": "code",
   "execution_count": 25,
   "id": "a7ff3482",
   "metadata": {},
   "outputs": [
    {
     "name": "stdout",
     "output_type": "stream",
     "text": [
      "mukarram You're invited to a dinner party at our place\n",
      "rizwana You're invited to a dinner party at our place\n",
      "zubair You're invited to a dinner party at our place\n",
      "farzana You're invited to a dinner party at our place\n",
      "shabana You're invited to a dinner party at our place\n",
      "tabbasum You're invited to a dinner party at our place\n"
     ]
    }
   ],
   "source": [
    "for x in guest:\n",
    "    print(x,\"You're invited to a dinner party at our place\")"
   ]
  },
  {
   "cell_type": "markdown",
   "id": "eaa4d34c",
   "metadata": {},
   "source": [
    "# ex 4-4"
   ]
  },
  {
   "cell_type": "code",
   "execution_count": 26,
   "id": "3ef331b9",
   "metadata": {},
   "outputs": [
    {
     "name": "stdout",
     "output_type": "stream",
     "text": [
      "due to some reason dinner table have space for only two people\n",
      "sorry for some reaoson you are not invited to dinner mukarram\n",
      "sorry for some reaoson you are not invited to dinner zubair\n",
      "sorry for some reaoson you are not invited to dinner shabana\n",
      "rizwana You're invited to a dinner party at our place\n",
      "farzana You're invited to a dinner party at our place\n",
      "tabbasum You're invited to a dinner party at our place\n"
     ]
    }
   ],
   "source": [
    "print(\"due to some reason dinner table have space for only two people\")\n",
    "print(\"sorry for some reaoson you are not invited to dinner {}\".format(guest.pop(0)))\n",
    "print(\"sorry for some reaoson you are not invited to dinner {}\".format(guest.pop(1)))\n",
    "print(\"sorry for some reaoson you are not invited to dinner {}\".format(guest.pop(2)))\n",
    "for x in guest:\n",
    "    print(x,\"You're invited to a dinner party at our place\")\n",
    "\n"
   ]
  },
  {
   "cell_type": "code",
   "execution_count": 27,
   "id": "f2a266c9",
   "metadata": {},
   "outputs": [
    {
     "name": "stdout",
     "output_type": "stream",
     "text": [
      "[]\n"
     ]
    }
   ],
   "source": [
    "guest.remove(\"farzana\")\n",
    "guest.remove(\"rizwana\")\n",
    "guest.remove(\"tabbasum\")\n",
    "print(guest)"
   ]
  },
  {
   "cell_type": "markdown",
   "id": "725308ef",
   "metadata": {},
   "source": [
    "# ex 4-5 indexing"
   ]
  },
  {
   "cell_type": "code",
   "execution_count": 28,
   "id": "84fcd8a3",
   "metadata": {},
   "outputs": [
    {
     "data": {
      "text/plain": [
       "'apple'"
      ]
     },
     "execution_count": 28,
     "metadata": {},
     "output_type": "execute_result"
    }
   ],
   "source": [
    "items = [\"apple\", \"banana\", \"cherry\", \"date\", \"elderberry\", \"fig\", \"grape\"]\n",
    "items[0]"
   ]
  },
  {
   "cell_type": "code",
   "execution_count": 29,
   "id": "0547042b",
   "metadata": {},
   "outputs": [
    {
     "data": {
      "text/plain": [
       "'grape'"
      ]
     },
     "execution_count": 29,
     "metadata": {},
     "output_type": "execute_result"
    }
   ],
   "source": [
    "items[-1]"
   ]
  },
  {
   "cell_type": "code",
   "execution_count": 30,
   "id": "7fdf9726",
   "metadata": {},
   "outputs": [
    {
     "data": {
      "text/plain": [
       "'cherry'"
      ]
     },
     "execution_count": 30,
     "metadata": {},
     "output_type": "execute_result"
    }
   ],
   "source": [
    "items[2]"
   ]
  },
  {
   "cell_type": "markdown",
   "id": "4dd725bc",
   "metadata": {},
   "source": [
    "# slicing"
   ]
  },
  {
   "cell_type": "code",
   "execution_count": 31,
   "id": "ca389a57",
   "metadata": {},
   "outputs": [
    {
     "data": {
      "text/plain": [
       "['apple', 'banana', 'cherry']"
      ]
     },
     "execution_count": 31,
     "metadata": {},
     "output_type": "execute_result"
    }
   ],
   "source": [
    "items[0:3]"
   ]
  },
  {
   "cell_type": "code",
   "execution_count": 32,
   "id": "b2aa017f",
   "metadata": {},
   "outputs": [
    {
     "data": {
      "text/plain": [
       "['cherry', 'date', 'elderberry']"
      ]
     },
     "execution_count": 32,
     "metadata": {},
     "output_type": "execute_result"
    }
   ],
   "source": [
    "items[2:5]"
   ]
  },
  {
   "cell_type": "code",
   "execution_count": 33,
   "id": "60e2593b",
   "metadata": {},
   "outputs": [
    {
     "data": {
      "text/plain": [
       "['fig', 'grape']"
      ]
     },
     "execution_count": 33,
     "metadata": {},
     "output_type": "execute_result"
    }
   ],
   "source": [
    "items[-2:]"
   ]
  },
  {
   "cell_type": "code",
   "execution_count": 34,
   "id": "16e566e5",
   "metadata": {},
   "outputs": [
    {
     "data": {
      "text/plain": [
       "['apple', 'cherry', 'elderberry', 'grape']"
      ]
     },
     "execution_count": 34,
     "metadata": {},
     "output_type": "execute_result"
    }
   ],
   "source": [
    "items[::2]"
   ]
  },
  {
   "cell_type": "code",
   "execution_count": 35,
   "id": "4f60a9ae",
   "metadata": {},
   "outputs": [
    {
     "data": {
      "text/plain": [
       "['grape', 'fig', 'elderberry', 'date', 'cherry', 'banana', 'apple']"
      ]
     },
     "execution_count": 35,
     "metadata": {},
     "output_type": "execute_result"
    }
   ],
   "source": [
    "items[::-1]"
   ]
  },
  {
   "cell_type": "code",
   "execution_count": null,
   "id": "384b0eef",
   "metadata": {},
   "outputs": [],
   "source": []
  },
  {
   "cell_type": "code",
   "execution_count": null,
   "id": "afc7e08b",
   "metadata": {},
   "outputs": [],
   "source": []
  }
 ],
 "metadata": {
  "kernelspec": {
   "display_name": "Python 3 (ipykernel)",
   "language": "python",
   "name": "python3"
  },
  "language_info": {
   "codemirror_mode": {
    "name": "ipython",
    "version": 3
   },
   "file_extension": ".py",
   "mimetype": "text/x-python",
   "name": "python",
   "nbconvert_exporter": "python",
   "pygments_lexer": "ipython3",
   "version": "3.11.4"
  }
 },
 "nbformat": 4,
 "nbformat_minor": 5
}
