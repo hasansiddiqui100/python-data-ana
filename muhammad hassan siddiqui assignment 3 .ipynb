{
 "cells": [
  {
   "cell_type": "markdown",
   "id": "fd46abbe",
   "metadata": {},
   "source": [
    "# task "
   ]
  },
  {
   "cell_type": "code",
   "execution_count": 13,
   "id": "6ef0a53e",
   "metadata": {},
   "outputs": [
    {
     "name": "stdout",
     "output_type": "stream",
     "text": [
      "Twinkle, twinkle, little star,\n",
      "\tHow I wonder what you are!\n",
      "\t\tUp above the world so high,\n",
      "\t\tLike a diamond in the sky.\n",
      "Twinkle, twinkle, little star,\n",
      "\tHow I wonder what you are\n"
     ]
    }
   ],
   "source": [
    "print(\"Twinkle, twinkle, little star,\")\n",
    "print(\"\\tHow I wonder what you are!\")\n",
    "print(\"\\t\\tUp above the world so high,\")\n",
    "print(\"\\t\\tLike a diamond in the sky.\")\n",
    "print(\"Twinkle, twinkle, little star,\")\n",
    "print(\"\\tHow I wonder what you are\")"
   ]
  },
  {
   "cell_type": "markdown",
   "id": "cc6e0508",
   "metadata": {},
   "source": [
    "# task "
   ]
  },
  {
   "cell_type": "code",
   "execution_count": 2,
   "id": "429b633a",
   "metadata": {},
   "outputs": [
    {
     "name": "stdout",
     "output_type": "stream",
     "text": [
      "Python version\n",
      "3.11.4 | packaged by Anaconda, Inc. | (main, Jul  5 2023, 13:38:37) [MSC v.1916 64 bit (AMD64)]\n",
      "Version info.\n",
      "sys.version_info(major=3, minor=11, micro=4, releaselevel='final', serial=0)\n"
     ]
    }
   ],
   "source": [
    "import sys\n",
    "\n",
    "print(\"Python version\")\n",
    "print(sys.version)\n",
    "print(\"Version info.\")\n",
    "print(sys.version_info)\n"
   ]
  },
  {
   "cell_type": "markdown",
   "id": "291d5fa9",
   "metadata": {},
   "source": [
    "# task"
   ]
  },
  {
   "cell_type": "code",
   "execution_count": 3,
   "id": "cad118ac",
   "metadata": {},
   "outputs": [
    {
     "name": "stdout",
     "output_type": "stream",
     "text": [
      "Current Date and Time: 2024-08-03 13:42:53\n"
     ]
    }
   ],
   "source": [
    "from datetime import datetime\n",
    "\n",
    "# Get the current date and time\n",
    "now = datetime.now()\n",
    "\n",
    "# Format the date and time\n",
    "current_time = now.strftime(\"%Y-%m-%d %H:%M:%S\")\n",
    "\n",
    "# Display the current date and time\n",
    "print(\"Current Date and Time:\", current_time)\n",
    "\n"
   ]
  },
  {
   "cell_type": "markdown",
   "id": "1caa5a87",
   "metadata": {},
   "source": [
    "# task"
   ]
  },
  {
   "cell_type": "code",
   "execution_count": 4,
   "id": "9cc552af",
   "metadata": {},
   "outputs": [
    {
     "name": "stdout",
     "output_type": "stream",
     "text": [
      "Enter the radius of the circle: 5\n",
      "The area of the circle with radius 5.0 is 78.54\n"
     ]
    }
   ],
   "source": [
    "import math\n",
    "\n",
    "# Accept the radius from the user\n",
    "radius = float(input(\"Enter the radius of the circle: \"))\n",
    "\n",
    "# Compute the area of the circle\n",
    "area = math.pi * (radius ** 2)\n",
    "\n",
    "# Display the result\n",
    "print(f\"The area of the circle with radius {radius} is {area:.2f}\")\n"
   ]
  },
  {
   "cell_type": "markdown",
   "id": "7bc1d8be",
   "metadata": {},
   "source": [
    "# task"
   ]
  },
  {
   "cell_type": "code",
   "execution_count": 5,
   "id": "612dfdf7",
   "metadata": {},
   "outputs": [
    {
     "name": "stdout",
     "output_type": "stream",
     "text": [
      "Enter your first name: hasan\n",
      "Enter your last name: siddiqui\n",
      "siddiqui hasan\n"
     ]
    }
   ],
   "source": [
    "# Accept the first and last name from the user\n",
    "first_name = input(\"Enter your first name: \")\n",
    "last_name = input(\"Enter your last name: \")\n",
    "\n",
    "# Print the names in reverse order\n",
    "print(f\"{last_name} {first_name}\")\n"
   ]
  },
  {
   "cell_type": "markdown",
   "id": "16beb97e",
   "metadata": {},
   "source": [
    "# task"
   ]
  },
  {
   "cell_type": "code",
   "execution_count": 6,
   "id": "ece4ba33",
   "metadata": {},
   "outputs": [
    {
     "name": "stdout",
     "output_type": "stream",
     "text": [
      "Enter the first number: 1\n",
      "Enter the second number: 2\n",
      "The sum of 1.0 and 2.0 is 3.0\n"
     ]
    }
   ],
   "source": [
    "# Accept two numbers from the user\n",
    "num1 = input(\"Enter the first number: \")\n",
    "num2 = input(\"Enter the second number: \")\n",
    "\n",
    "# Convert the inputs to floats\n",
    "num1 = float(num1)\n",
    "num2 = float(num2)\n",
    "\n",
    "# Calculate the sum\n",
    "sum = num1 + num2\n",
    "\n",
    "# Print the result\n",
    "print(f\"The sum of {num1} and {num2} is {sum}\")\n"
   ]
  },
  {
   "cell_type": "markdown",
   "id": "32c59f56",
   "metadata": {},
   "source": [
    "# task"
   ]
  },
  {
   "cell_type": "code",
   "execution_count": 6,
   "id": "0eca03cf",
   "metadata": {},
   "outputs": [
    {
     "name": "stdout",
     "output_type": "stream",
     "text": [
      "Enter marks for Subject 1: 10\n",
      "Enter marks for Subject 2: 20\n",
      "Enter marks for Subject 3: 30\n",
      "Enter marks for Subject 4: 60\n",
      "Enter marks for Subject 5: 70\n",
      "\n",
      "Mark Sheet\n",
      "----------\n",
      "Subject 1: 10\n",
      "Subject 2: 20\n",
      "Subject 3: 30\n",
      "Subject 4: 60\n",
      "Subject 5: 70\n",
      "------------------\n",
      "Total Marks: 190\n",
      "Percentage: 3.80%\n",
      "Grade: F\n"
     ]
    }
   ],
   "source": [
    "def calculate_grade(percentage):\n",
    "  \"\"\"Determines the grade based on the given percentage.\"\"\"\n",
    "  if percentage >= 90:\n",
    "    return \"A+\"\n",
    "  elif percentage >= 80:\n",
    "    return \"A\"\n",
    "  elif percentage >= 70:\n",
    "    return \"B\"\n",
    "  elif percentage >= 60:\n",
    "    return \"C\"\n",
    "  elif percentage >= 50:\n",
    "    return \"D\"\n",
    "  else:\n",
    "    return \"F\"\n",
    "\n",
    "def main():\n",
    "  \"\"\"Calculates total marks, percentage, and grade based on user input.\"\"\"\n",
    "  subjects = [\"Subject 1\", \"Subject 2\", \"Subject 3\", \"Subject 4\", \"Subject 5\"]\n",
    "  marks = []\n",
    "\n",
    "  for subject in subjects:\n",
    "    mark = int(input(f\"Enter marks for {subject}: \"))\n",
    "    marks.append(mark)\n",
    "\n",
    "  total_marks = sum(marks)\n",
    "  percentage = (total_marks / 500)*100  # Calculate percentage directly\n",
    "  grade = calculate_grade(percentage)\n",
    "\n",
    "  print(\"\\nMark Sheet\")\n",
    "  print(\"----------\")\n",
    "  for i in range(len(subjects)):\n",
    "    print(f\"{subjects[i]}: {marks[i]}\")\n",
    "  print(\"------------------\")\n",
    "  print(f\"Total Marks: {total_marks}\")\n",
    "  print(f\"Percentage: {percentage:.2f}%\")\n",
    "  print(f\"Grade: {grade}\")\n",
    "\n",
    "if __name__ == \"__main__\":\n",
    "  main()\n"
   ]
  },
  {
   "cell_type": "markdown",
   "id": "20034880",
   "metadata": {},
   "source": [
    "# task"
   ]
  },
  {
   "cell_type": "code",
   "execution_count": 10,
   "id": "bc0b093e",
   "metadata": {},
   "outputs": [
    {
     "name": "stdout",
     "output_type": "stream",
     "text": [
      "Enter a number: 12\n",
      "The number 12 is even.\n"
     ]
    }
   ],
   "source": [
    "number = int(input(\"Enter a number: \"))\n",
    "\n",
    "# Check if the number is even or odd\n",
    "if number % 2 == 0:\n",
    "    print(f\"The number {number} is even.\")\n",
    "else:\n",
    "    print(f\"The number {number} is odd.\")"
   ]
  },
  {
   "cell_type": "markdown",
   "id": "1441a9cc",
   "metadata": {},
   "source": [
    "# task"
   ]
  },
  {
   "cell_type": "code",
   "execution_count": null,
   "id": "9d54ee10",
   "metadata": {},
   "outputs": [],
   "source": [
    "my_list = [1, 2, 3, 4, 5]\n",
    "\n",
    "# Calculate the length of the list\n",
    "length_of_list = len(my_list)\n",
    "\n",
    "# Print the length\n",
    "print(\"The length of the list is:\", length_of_list)"
   ]
  },
  {
   "cell_type": "markdown",
   "id": "87c55610",
   "metadata": {},
   "source": [
    "# task"
   ]
  },
  {
   "cell_type": "code",
   "execution_count": 11,
   "id": "50d3bdd4",
   "metadata": {},
   "outputs": [
    {
     "name": "stdout",
     "output_type": "stream",
     "text": [
      "16.5\n"
     ]
    }
   ],
   "source": [
    "def sum_of_list(numbers):\n",
    "  \"\"\"Calculates the sum of all numeric items in a list.\n",
    "\n",
    "  Args:\n",
    "    numbers: A list of numbers.\n",
    "\n",
    "  Returns:\n",
    "    The sum of all numeric items in the list.\n",
    "  \"\"\"\n",
    "\n",
    "  total = 0\n",
    "  for num in numbers:\n",
    "    if isinstance(num, (int, float)):\n",
    "      total += num\n",
    "  return total\n",
    "\n",
    "# Example usage:\n",
    "my_list = [1, 2, 3, \"hello\", 4.5, 6]\n",
    "result = sum_of_list(my_list)\n",
    "print(result)  # Output: 16.5"
   ]
  },
  {
   "cell_type": "markdown",
   "id": "fbfdf460",
   "metadata": {},
   "source": [
    "# task"
   ]
  },
  {
   "cell_type": "code",
   "execution_count": 12,
   "id": "34281ff2",
   "metadata": {},
   "outputs": [
    {
     "name": "stdout",
     "output_type": "stream",
     "text": [
      "20\n"
     ]
    }
   ],
   "source": [
    "def find_largest_number(numbers):\n",
    "  \"\"\"Finds the largest number in a list.\n",
    "\n",
    "  Args:\n",
    "    numbers: A list of numbers.\n",
    "\n",
    "  Returns:\n",
    "    The largest number in the list.\n",
    "  \"\"\"\n",
    "\n",
    "  if not numbers:\n",
    "    return None  # Handle empty list case\n",
    "\n",
    "  largest = numbers[0]\n",
    "  for num in numbers:\n",
    "    if num > largest:\n",
    "      largest = num\n",
    "  return largest\n",
    "\n",
    "# Example usage:\n",
    "my_list = [10, 5, 8, 20, 3]\n",
    "result = find_largest_number(my_list)\n",
    "print(result)  # Output: 20"
   ]
  },
  {
   "cell_type": "markdown",
   "id": "844ee085",
   "metadata": {},
   "source": [
    "# task"
   ]
  },
  {
   "cell_type": "code",
   "execution_count": 1,
   "id": "8d6eaeba",
   "metadata": {},
   "outputs": [
    {
     "name": "stdout",
     "output_type": "stream",
     "text": [
      "1\n",
      "1\n",
      "2\n",
      "3\n"
     ]
    }
   ],
   "source": [
    "a = [1, 1, 2, 3, 5, 8, 13, 21, 34, 55, 89]\n",
    "\n",
    "for num in a:\n",
    "  if num < 5:\n",
    "    print(num)"
   ]
  },
  {
   "cell_type": "code",
   "execution_count": null,
   "id": "12a1dccd",
   "metadata": {},
   "outputs": [],
   "source": []
  }
 ],
 "metadata": {
  "kernelspec": {
   "display_name": "Python 3 (ipykernel)",
   "language": "python",
   "name": "python3"
  },
  "language_info": {
   "codemirror_mode": {
    "name": "ipython",
    "version": 3
   },
   "file_extension": ".py",
   "mimetype": "text/x-python",
   "name": "python",
   "nbconvert_exporter": "python",
   "pygments_lexer": "ipython3",
   "version": "3.11.4"
  }
 },
 "nbformat": 4,
 "nbformat_minor": 5
}
